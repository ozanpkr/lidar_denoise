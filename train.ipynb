{
 "cells": [
  {
   "cell_type": "code",
   "execution_count": 1,
   "id": "bd43059f-e10c-4628-994a-6f5475c844d8",
   "metadata": {},
   "outputs": [
    {
     "name": "stdout",
     "output_type": "stream",
     "text": [
      "Jupyter environment detected. Enabling Open3D WebVisualizer.\n",
      "[Open3D INFO] WebRTC GUI backend enabled.\n",
      "[Open3D INFO] WebRTCWindowSystem: HTTP handshake server disabled.\n"
     ]
    }
   ],
   "source": [
    "import open3d as o3\n",
    "import numpy as np\n",
    "import os\n",
    "from torch.utils.data import Dataset, DataLoader,random_split\n",
    "from torchvision import transforms\n",
    "import torch\n",
    "import torch.optim as optim\n",
    "import torch.nn.functional as F"
   ]
  },
  {
   "cell_type": "code",
   "execution_count": 2,
   "id": "17493188-bbcc-4b77-b64d-1317ba4b639b",
   "metadata": {},
   "outputs": [
    {
     "name": "stdout",
     "output_type": "stream",
     "text": [
      "GPU available.\n"
     ]
    }
   ],
   "source": [
    "# Check if GPU is available\n",
    "if torch.cuda.is_available():\n",
    "    device = torch.device(\"cuda:0\")  # Use the first GPU\n",
    "    print(\"GPU available.\")\n",
    "else:\n",
    "    device = torch.device(\"cpu\")\n",
    "    print(\"Using CPU.\")"
   ]
  },
  {
   "cell_type": "markdown",
   "id": "325b6b3f-1569-4969-8367-b907d7c00aa5",
   "metadata": {},
   "source": [
    "## Create Dataloader"
   ]
  },
  {
   "cell_type": "code",
   "execution_count": 3,
   "id": "d78f9a0b-9238-43c8-bdc9-883f403f159b",
   "metadata": {},
   "outputs": [],
   "source": [
    "def load_data_from_folder(folder_path):\n",
    "    data = []\n",
    "    file_list = os.listdir(folder_path)\n",
    "    for file_name in file_list:\n",
    "        file_path = os.path.join(folder_path, file_name)\n",
    "        data.append(file_name)  # Assuming file names are used as data identifiers\n",
    "    return data"
   ]
  },
  {
   "cell_type": "code",
   "execution_count": 4,
   "id": "961db7ea-1993-4af7-814c-7a96de424f9c",
   "metadata": {},
   "outputs": [],
   "source": [
    "class LiDARDataset(Dataset):\n",
    "    def __init__(self, clean_folder, noisy_folder):\n",
    "        self.clean_folder = clean_folder\n",
    "        self.noisy_folder = noisy_folder\n",
    "        \n",
    "        self.clean_data = load_data_from_folder(clean_folder)\n",
    "        self.noisy_data = load_data_from_folder(noisy_folder)\n",
    "                \n",
    "        self.transform = transforms.ToTensor()\n",
    "    def __len__(self):\n",
    "        return len(self.clean_data)\n",
    "\n",
    "    def __getitem__(self, idx):\n",
    "        \n",
    "        clean_file_path = os.path.join(self.clean_folder, self.clean_data[idx])\n",
    "        noisy_file_path = os.path.join(self.noisy_folder, self.noisy_data[idx])\n",
    "        \n",
    "        clean_sample = np.load(clean_file_path)['lidar']\n",
    "        noisy_sample = np.load(noisy_file_path)['lidar']\n",
    "\n",
    "        clean_sample = self.transform(clean_sample)\n",
    "        noisy_sample = self.transform(noisy_sample)\n",
    "\n",
    "        return clean_sample,noisy_sample"
   ]
  },
  {
   "cell_type": "code",
   "execution_count": 5,
   "id": "0c6771bf-63f4-40df-9651-f899c927639e",
   "metadata": {},
   "outputs": [],
   "source": [
    "dataset = LiDARDataset(clean_folder='data/clean_dataset', noisy_folder='data/noisy_dataset')"
   ]
  },
  {
   "cell_type": "code",
   "execution_count": 6,
   "id": "16318e77-2bbc-46da-99c1-fd5a659895ed",
   "metadata": {},
   "outputs": [],
   "source": [
    "def point_cloud_collate(batch):\n",
    "\n",
    "    original_clouds = [item[0] for item in batch]  # list of original point clouds\n",
    "    noisy_clouds = [item[1] for item in batch]     # list of noisy point clouds\n",
    "\n",
    "    return original_clouds, noisy_clouds"
   ]
  },
  {
   "cell_type": "code",
   "execution_count": 7,
   "id": "66c3a169-d23e-4508-880c-3c3f3295c24b",
   "metadata": {},
   "outputs": [],
   "source": [
    "# Define sizes for your training and validation sets\n",
    "train_size = int(0.8 * len(dataset))  # 80% for training\n",
    "val_size = len(dataset) - train_size  # 20% for validation\n",
    "# Split the dataset\n",
    "train_dataset, val_dataset = random_split(dataset, [train_size, val_size])\n",
    "# Create DataLoaders for your train and validation sets\n",
    "train_loader = DataLoader(train_dataset, batch_size=8, shuffle=True,collate_fn=point_cloud_collate)\n",
    "val_loader = DataLoader(val_dataset, batch_size=4, shuffle=False,collate_fn=point_cloud_collate)"
   ]
  },
  {
   "cell_type": "markdown",
   "id": "9511d5c5-4437-4699-9321-37dee9bee968",
   "metadata": {},
   "source": [
    "## Define Model and Hyper Params"
   ]
  },
  {
   "cell_type": "code",
   "execution_count": 8,
   "id": "a346ecb0-8b69-46d9-abef-ff82b9dcf115",
   "metadata": {},
   "outputs": [],
   "source": [
    "import torch\n",
    "import torch.nn as nn\n",
    "\n",
    "class DenoisingAutoencoder(nn.Module):\n",
    "    def __init__(self):\n",
    "        super(DenoisingAutoencoder, self).__init__()\n",
    "\n",
    "        # Encoder\n",
    "        self.encoder =nn.Sequential(\n",
    "        nn.Conv1d(3, 16, kernel_size=3, stride=2, padding=1),\n",
    "        nn.ReLU(True),\n",
    "        nn.Conv1d(16, 32, kernel_size=3, stride=2, padding=1),\n",
    "        nn.ReLU(True),\n",
    "        nn.Conv1d(32, 64, kernel_size=3, stride=2, padding=1),\n",
    "        nn.ReLU(True)\n",
    "        )\n",
    "        # Decoder\n",
    "        self.decoder = nn.Sequential(\n",
    "            nn.ConvTranspose1d(64, 32, kernel_size=4, stride=2, padding=1),\n",
    "            nn.ReLU(True),\n",
    "            nn.ConvTranspose1d(32, 16, kernel_size=4, stride=2, padding=1),\n",
    "            nn.ReLU(True),\n",
    "            nn.ConvTranspose1d(16, 3, kernel_size=4, stride=2, padding=1),\n",
    "            nn.ReLU(True)\n",
    "        )\n",
    "    \n",
    "    def forward(self, x):\n",
    "        encoded = self.encoder(x)\n",
    "        decoded = self.decoder(encoded)\n",
    "        return decoded\n"
   ]
  },
  {
   "cell_type": "code",
   "execution_count": 9,
   "id": "e6abb694-5b63-4665-9347-c31be82af7b1",
   "metadata": {},
   "outputs": [],
   "source": [
    "model = DenoisingAutoencoder().to(device)\n",
    "criterion = nn.MSELoss()\n",
    "optimizer = optim.Adam(model.parameters(), lr=0.001)"
   ]
  },
  {
   "cell_type": "markdown",
   "id": "3bf35d51-f976-4aaf-b507-bd11339af9b3",
   "metadata": {},
   "source": [
    "## Train Loop"
   ]
  },
  {
   "cell_type": "code",
   "execution_count": 14,
   "id": "f2966b70-aeaf-4df2-88f7-eb7a0b0e6f0c",
   "metadata": {},
   "outputs": [],
   "source": [
    "def train(epoch, log_interval=10):\n",
    "    model.train()\n",
    "    total_loss = 0\n",
    "    for batch_idx, batch in enumerate(train_loader):\n",
    "        # Process each point cloud individually\n",
    "        original_clouds, noisy_clouds=batch\n",
    "        noisy_data = []\n",
    "        clean_data = []\n",
    "        for point_cloud in noisy_clouds:\n",
    "            # Ensure point_cloud is a numpy array or a list of numbers\n",
    "            # If necessary, pad the point cloud to a uniform size here\n",
    "            point_cloud_tensor = torch.tensor(point_cloud, dtype=torch.float).to(device)\n",
    "            noisy_data.append(point_cloud_tensor)\n",
    "\n",
    "        for point_cloud in original_clouds:\n",
    "            point_cloud_tensor = torch.tensor(point_cloud, dtype=torch.float).to(device)\n",
    "            clean_data.append(point_cloud_tensor)\n",
    "\n",
    "        optimizer.zero_grad()\n",
    "        output = [model(point_cloud.transpose(1, 2)) for point_cloud in noisy_data]\n",
    "\n",
    "        loss=0\n",
    "        for o, d in zip(output, clean_data):\n",
    "            o=o.transpose(1, 2)\n",
    "            padding_size = d.size(1) - o.size(1)\n",
    "            padded_tensor_b = F.pad(o, (0, 0, 0, padding_size))\n",
    "            loss+=criterion(padded_tensor_b, d)\n",
    "\n",
    "        #loss = sum(criterion(o, d.transpose(1, 2)) for o, d in zip(output, clean_data)) / len(clean_data)\n",
    "        loss.backward()\n",
    "        optimizer.step()\n",
    "        total_loss += loss.item()\n",
    "\n",
    "    average_loss = total_loss / len(train_loader)\n",
    "    print(f'Epoch {epoch} Average Training loss: {average_loss:.4f}')\n",
    "\n",
    "def validate(loader):\n",
    "    model.eval()\n",
    "    val_loss = 0\n",
    "    with torch.no_grad():\n",
    "        for batch_idx, batch in enumerate(loader):\n",
    "            # Process each point cloud individually\n",
    "            original_clouds, noisy_clouds=batch\n",
    "            noisy_data = []\n",
    "            clean_data = []\n",
    "            for point_cloud in noisy_clouds:\n",
    "                # Ensure point_cloud is a numpy array or a list of numbers\n",
    "                # If necessary, pad the point cloud to a uniform size here\n",
    "                point_cloud_tensor = torch.tensor(point_cloud, dtype=torch.float).to(device)\n",
    "                print(point_cloud_tensor.shape)\n",
    "                noisy_data.append(point_cloud_tensor)\n",
    "    \n",
    "            for point_cloud in original_clouds:\n",
    "                point_cloud_tensor = torch.tensor(point_cloud, dtype=torch.float).to(device)\n",
    "                clean_data.append(point_cloud_tensor)\n",
    "    \n",
    "            output = [model(point_cloud.transpose(1, 2)) for point_cloud in noisy_data]\n",
    "            loss=0\n",
    "            for o, d in zip(output, clean_data):\n",
    "                o=o.transpose(1, 2)\n",
    "                padding_size = d.size(1) - o.size(1)\n",
    "                padded_tensor_b = F.pad(o, (0, 0, 0, padding_size))\n",
    "                loss+=criterion(padded_tensor_b, d)\n",
    "            val_loss += loss.item()\n",
    "    val_loss /= len(loader)\n",
    "    print(f'---------------------------------------------Average Validation loss: {val_loss:.4f}')"
   ]
  },
  {
   "cell_type": "code",
   "execution_count": 15,
   "id": "451ba20d-009d-468d-9739-a3b1820960b6",
   "metadata": {},
   "outputs": [
    {
     "name": "stderr",
     "output_type": "stream",
     "text": [
      "C:\\Users\\User\\AppData\\Local\\Temp\\ipykernel_14676\\1448400647.py:12: UserWarning: To copy construct from a tensor, it is recommended to use sourceTensor.clone().detach() or sourceTensor.clone().detach().requires_grad_(True), rather than torch.tensor(sourceTensor).\n",
      "  point_cloud_tensor = torch.tensor(point_cloud, dtype=torch.float).to(device)\n",
      "C:\\Users\\User\\AppData\\Local\\Temp\\ipykernel_14676\\1448400647.py:16: UserWarning: To copy construct from a tensor, it is recommended to use sourceTensor.clone().detach() or sourceTensor.clone().detach().requires_grad_(True), rather than torch.tensor(sourceTensor).\n",
      "  point_cloud_tensor = torch.tensor(point_cloud, dtype=torch.float).to(device)\n",
      "C:\\Users\\User\\AppData\\Local\\Temp\\ipykernel_14676\\1448400647.py:49: UserWarning: To copy construct from a tensor, it is recommended to use sourceTensor.clone().detach() or sourceTensor.clone().detach().requires_grad_(True), rather than torch.tensor(sourceTensor).\n",
      "  point_cloud_tensor = torch.tensor(point_cloud, dtype=torch.float).to(device)\n",
      "C:\\Users\\User\\AppData\\Local\\Temp\\ipykernel_14676\\1448400647.py:54: UserWarning: To copy construct from a tensor, it is recommended to use sourceTensor.clone().detach() or sourceTensor.clone().detach().requires_grad_(True), rather than torch.tensor(sourceTensor).\n",
      "  point_cloud_tensor = torch.tensor(point_cloud, dtype=torch.float).to(device)\n"
     ]
    },
    {
     "name": "stdout",
     "output_type": "stream",
     "text": [
      "Epoch 1 Average Training loss: 1070.7720\n",
      "torch.Size([1, 19062, 3])\n",
      "torch.Size([1, 18173, 3])\n",
      "---------------------------------------------Average Validation loss: 259.3069\n",
      "Epoch 2 Average Training loss: 1039.0149\n",
      "torch.Size([1, 19062, 3])\n",
      "torch.Size([1, 18173, 3])\n",
      "---------------------------------------------Average Validation loss: 250.5863\n",
      "Epoch 3 Average Training loss: 1002.3976\n",
      "torch.Size([1, 19062, 3])\n",
      "torch.Size([1, 18173, 3])\n",
      "---------------------------------------------Average Validation loss: 240.6541\n",
      "Epoch 4 Average Training loss: 960.7263\n",
      "torch.Size([1, 19062, 3])\n",
      "torch.Size([1, 18173, 3])\n",
      "---------------------------------------------Average Validation loss: 229.4046\n",
      "Epoch 5 Average Training loss: 913.6312\n",
      "torch.Size([1, 19062, 3])\n",
      "torch.Size([1, 18173, 3])\n",
      "---------------------------------------------Average Validation loss: 217.1801\n",
      "Epoch 6 Average Training loss: 862.5850\n",
      "torch.Size([1, 19062, 3])\n",
      "torch.Size([1, 18173, 3])\n",
      "---------------------------------------------Average Validation loss: 204.5272\n",
      "Epoch 7 Average Training loss: 809.9467\n",
      "torch.Size([1, 19062, 3])\n",
      "torch.Size([1, 18173, 3])\n",
      "---------------------------------------------Average Validation loss: 192.2801\n",
      "Epoch 8 Average Training loss: 759.3333\n",
      "torch.Size([1, 19062, 3])\n",
      "torch.Size([1, 18173, 3])\n",
      "---------------------------------------------Average Validation loss: 181.6479\n",
      "Epoch 9 Average Training loss: 715.9456\n",
      "torch.Size([1, 19062, 3])\n",
      "torch.Size([1, 18173, 3])\n",
      "---------------------------------------------Average Validation loss: 174.0430\n",
      "Epoch 10 Average Training loss: 685.8605\n",
      "torch.Size([1, 19062, 3])\n",
      "torch.Size([1, 18173, 3])\n",
      "---------------------------------------------Average Validation loss: 170.7112\n"
     ]
    }
   ],
   "source": [
    "epochs = 10\n",
    "for epoch in range(1, epochs + 1):\n",
    "    train(epoch)\n",
    "    validate(val_loader)\n",
    "torch.save(model.state_dict(), 'denoise_model.pth')"
   ]
  }
 ],
 "metadata": {
  "kernelspec": {
   "display_name": "Python 3 (ipykernel)",
   "language": "python",
   "name": "python3"
  },
  "language_info": {
   "codemirror_mode": {
    "name": "ipython",
    "version": 3
   },
   "file_extension": ".py",
   "mimetype": "text/x-python",
   "name": "python",
   "nbconvert_exporter": "python",
   "pygments_lexer": "ipython3",
   "version": "3.10.13"
  }
 },
 "nbformat": 4,
 "nbformat_minor": 5
}
