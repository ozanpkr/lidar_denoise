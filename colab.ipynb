{
  "nbformat": 4,
  "nbformat_minor": 0,
  "metadata": {
    "colab": {
      "provenance": [],
      "gpuType": "T4"
    },
    "kernelspec": {
      "name": "python3",
      "display_name": "Python 3"
    },
    "language_info": {
      "name": "python"
    },
    "accelerator": "GPU"
  },
  "cells": [
    {
      "cell_type": "code",
      "source": [
        "%pip install open3d"
      ],
      "metadata": {
        "id": "QUYdAQ-Cd2Ra"
      },
      "execution_count": null,
      "outputs": []
    },
    {
      "cell_type": "code",
      "execution_count": 2,
      "metadata": {
        "colab": {
          "base_uri": "https://localhost:8080/"
        },
        "id": "-cxU0qpgcvQA",
        "outputId": "318efb28-bb5d-490c-bb2a-118c46fe1627"
      },
      "outputs": [
        {
          "output_type": "stream",
          "name": "stdout",
          "text": [
            "fatal: destination path 'lidar_denoise' already exists and is not an empty directory.\n"
          ]
        }
      ],
      "source": [
        "!git clone https://github.com/ozanpkr/lidar_denoise.git"
      ]
    },
    {
      "cell_type": "code",
      "source": [
        "%cd lidar_denoise\n",
        "!ls"
      ],
      "metadata": {
        "colab": {
          "base_uri": "https://localhost:8080/"
        },
        "id": "q4puRVljc1uG",
        "outputId": "507cea4f-0c35-45d4-d68b-445dba980e12"
      },
      "execution_count": 3,
      "outputs": [
        {
          "output_type": "stream",
          "name": "stdout",
          "text": [
            "/content/lidar_denoise\n",
            "data\t\t       denoise_model.pth  mie_q.npz\t    sample_clean_data.npz    train.ipynb\n",
            "dataset_creator.ipynb  extern\t\t  README.md\t    sample_input.npz\n",
            "demo.ipynb\t       LICENSE\t\t  requirements.txt  sample_lisa_usage.ipynb\n"
          ]
        }
      ]
    },
    {
      "cell_type": "code",
      "source": [
        "%run 'demo.ipynb'"
      ],
      "metadata": {
        "colab": {
          "base_uri": "https://localhost:8080/",
          "height": 86
        },
        "id": "xWTLM9DcdW0U",
        "outputId": "69062413-4cc7-4532-b2fa-420923a949dd"
      },
      "execution_count": null,
      "outputs": [
        {
          "output_type": "stream",
          "name": "stdout",
          "text": [
            "GPU available.\n",
            "\u001b[1;33m[Open3D WARNING] GLFW Error: X11: The DISPLAY environment variable is missing\u001b[0;m\n",
            "\u001b[1;33m[Open3D WARNING] Failed to initialize GLFW\u001b[0;m\n",
            "\u001b[1;33m[Open3D WARNING] [DrawGeometries] Failed creating OpenGL window.\u001b[0;m\n"
          ]
        }
      ]
    },
    {
      "cell_type": "code",
      "source": [
        "#Colab ortamı demo kullanımına izin vermiyor.Bundan dolayı çıktıyı ve open3d kütüphanesi indirerek aşağıdaki gibi görüntüleyebilirsiniz\n",
        "\"\"\"\n",
        "def visualize_cloud(clean_lidar_points):\n",
        "    # Convert the numpy array to a Vector3dVector\n",
        "    point_cloud = o3.utility.Vector3dVector(clean_lidar_points)\n",
        "    # You can now use point_cloud with other Open3D functions and methods\n",
        "    pcd = o3.geometry.PointCloud()\n",
        "    pcd.points = point_cloud\n",
        "    o3.visualization.draw_geometries([pcd])\n",
        "\n",
        "out_lidar_data = np.load(\"out.npz\")['lidar']\n",
        "visualize_cloud(out_lidar_data)\"\"\""
      ],
      "metadata": {
        "id": "YPQCiAjgd0PF"
      },
      "execution_count": null,
      "outputs": []
    }
  ]
}