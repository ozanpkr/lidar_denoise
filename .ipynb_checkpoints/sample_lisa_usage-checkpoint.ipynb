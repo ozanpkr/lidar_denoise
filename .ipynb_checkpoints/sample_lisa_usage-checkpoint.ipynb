{
 "cells": [
  {
   "cell_type": "markdown",
   "id": "30f3e474-a098-4754-a029-0fb07adc8186",
   "metadata": {},
   "source": [
    "# Sample LISA (Lidar Light Scattering Augmentation) Usage For Noisy Data Generation"
   ]
  },
  {
   "cell_type": "markdown",
   "id": "210584c7-8a0f-4144-a316-2f50b0a7c8ab",
   "metadata": {},
   "source": [
    "## 📚 Import Libraries 📚"
   ]
  },
  {
   "cell_type": "code",
   "execution_count": 1,
   "id": "fd6eeaf7-c2b5-409f-a3e4-dd456b3d4c39",
   "metadata": {},
   "outputs": [
    {
     "name": "stdout",
     "output_type": "stream",
     "text": [
      "Jupyter environment detected. Enabling Open3D WebVisualizer.\n",
      "[Open3D INFO] WebRTC GUI backend enabled.\n",
      "[Open3D INFO] WebRTCWindowSystem: HTTP handshake server disabled.\n"
     ]
    }
   ],
   "source": [
    "from extern.atmos_models import *\n",
    "import open3d as o3"
   ]
  },
  {
   "cell_type": "markdown",
   "id": "1651c14e-451a-4d8f-a943-9f9904004f3c",
   "metadata": {},
   "source": [
    "## Define Lisa Model"
   ]
  },
  {
   "cell_type": "code",
   "execution_count": 8,
   "id": "e23ee400-7a22-4ad1-881b-d20429a7433a",
   "metadata": {},
   "outputs": [],
   "source": [
    "lisa = LISA(atm_model='rain',rmax=100)"
   ]
  },
  {
   "cell_type": "markdown",
   "id": "c8e76f13-372d-4efc-85a9-1e0598731bd8",
   "metadata": {},
   "source": [
    "## 💭 Noisy Point Cloud Generation 💭"
   ]
  },
  {
   "cell_type": "markdown",
   "id": "f7fa9625-a24e-4bb6-a60a-d73fce904547",
   "metadata": {},
   "source": [
    "### 🛠️ Utils 🛠️"
   ]
  },
  {
   "cell_type": "code",
   "execution_count": 9,
   "id": "c8c3cb65-0f02-4dd9-930a-d818049a2013",
   "metadata": {},
   "outputs": [],
   "source": [
    "def visualize_cloud(clean_lidar_points):\n",
    "    # Convert the numpy array to a Vector3dVector\n",
    "    point_cloud = o3.utility.Vector3dVector(clean_lidar_points)\n",
    "    # You can now use point_cloud with other Open3D functions and methods\n",
    "    pcd = o3.geometry.PointCloud()\n",
    "    pcd.points = point_cloud\n",
    "    o3.visualization.draw_geometries([pcd])\n",
    "\n",
    "def analysis_noisy_data(clean_data_,noisy_data_):\n",
    "    \n",
    "    lost_points_indices = np.where(noisy_data[:, 4] == 0)[0]\n",
    "    unlost_points_indices = np.where(noisy_data[:, 4] != 0)[0]\n",
    "    \n",
    "    noisy_point_cloud_ = np.delete(clean_lidar_points, lost_points_indices, axis=0)\n",
    "    removed_points_ = np.delete(clean_lidar_points, unlost_points_indices, axis=0)\n",
    "\n",
    "    print(f\"{removed_points_.shape[0]} points have been removed from clean data due to rain.So the clean LIDAR point cloud decreased to {noisy_point_cloud_.shape[0]} points due to rain.\")\n",
    "    return noisy_point_cloud_,removed_points_"
   ]
  },
  {
   "cell_type": "markdown",
   "id": "0bf7d111-15ee-45d1-a2e5-ee212d5b29a3",
   "metadata": {},
   "source": [
    "### 🚀 Read and visualize clean data from dataset 🚀"
   ]
  },
  {
   "cell_type": "code",
   "execution_count": 10,
   "id": "35ea08ed-7cd3-4880-bed0-6a440c6f8da4",
   "metadata": {},
   "outputs": [],
   "source": [
    "clean_lidar_data = np.load(\"sample_clean_data.npz\")"
   ]
  },
  {
   "cell_type": "code",
   "execution_count": 11,
   "id": "c8be20d8-673e-4c4e-96a5-62188149065a",
   "metadata": {},
   "outputs": [
    {
     "name": "stdout",
     "output_type": "stream",
     "text": [
      "The clean LIDAR point cloud has 18120 points, each with 3 dimensions.\n"
     ]
    }
   ],
   "source": [
    "clean_lidar_points= clean_lidar_data['pcloud_points']\n",
    "num_points, num_dimensions = clean_lidar_points.shape\n",
    "print(f\"The clean LIDAR point cloud has {num_points} points, each with {num_dimensions} dimensions.\")\n",
    "visualize_cloud(clean_lidar_points)"
   ]
  },
  {
   "cell_type": "markdown",
   "id": "dbe44869-5d7a-467e-98b9-0516e608cfa5",
   "metadata": {},
   "source": [
    "### ☔ Obtain noisy point cloud with Lisa ☔"
   ]
  },
  {
   "cell_type": "code",
   "execution_count": 12,
   "id": "87633bc3-d845-42ab-ad21-ab065faa6034",
   "metadata": {},
   "outputs": [],
   "source": [
    "clean_lidar_reflectance= clean_lidar_data['pcloud_attr.reflectance']\n",
    "#Normalize lidar reflectance to Lisa usage\n",
    "normalized_lidar_reflectance= (clean_lidar_reflectance - clean_lidar_reflectance.min()) / (clean_lidar_reflectance.max() - clean_lidar_reflectance.min())"
   ]
  },
  {
   "cell_type": "code",
   "execution_count": 13,
   "id": "021722d1-b4c5-4d4a-ad4c-a9154131fe77",
   "metadata": {},
   "outputs": [],
   "source": [
    "clean_data = np.column_stack((clean_lidar_points, normalized_lidar_reflectance))\n",
    "noisy_data = lisa.augment(clean_data,60) # rain rate 33 mm/hr"
   ]
  },
  {
   "cell_type": "code",
   "execution_count": 14,
   "id": "d99e262b-01b0-4cd7-8acf-621c780f3266",
   "metadata": {},
   "outputs": [
    {
     "name": "stdout",
     "output_type": "stream",
     "text": [
      "4004 points have been removed from clean data due to rain.So the clean LIDAR point cloud decreased to 14116 points due to rain.\n"
     ]
    }
   ],
   "source": [
    "noisy_point_cloud,removed_points=analysis_noisy_data(clean_data,noisy_data)"
   ]
  },
  {
   "cell_type": "markdown",
   "id": "f9f4305d-8445-4e29-8c10-b67bdf0bbfd1",
   "metadata": {},
   "source": [
    "### 〰️ Visualize noisy point cloud 〰️"
   ]
  },
  {
   "cell_type": "code",
   "execution_count": 15,
   "id": "2004610e-1fcf-42b8-a14c-f1f916d54117",
   "metadata": {},
   "outputs": [],
   "source": [
    "visualize_cloud(noisy_point_cloud)"
   ]
  },
  {
   "cell_type": "markdown",
   "id": "fb14fe23-f4ed-4f13-a341-33d28ac8087f",
   "metadata": {},
   "source": [
    "### 💧 Visualize removed points due to rain drop 💧"
   ]
  },
  {
   "cell_type": "code",
   "execution_count": 16,
   "id": "ad4d4fea-10a7-419c-bd68-23ccbedb304c",
   "metadata": {},
   "outputs": [],
   "source": [
    "visualize_cloud(removed_points)"
   ]
  }
 ],
 "metadata": {
  "kernelspec": {
   "display_name": "Python 3 (ipykernel)",
   "language": "python",
   "name": "python3"
  },
  "language_info": {
   "codemirror_mode": {
    "name": "ipython",
    "version": 3
   },
   "file_extension": ".py",
   "mimetype": "text/x-python",
   "name": "python",
   "nbconvert_exporter": "python",
   "pygments_lexer": "ipython3",
   "version": "3.10.13"
  }
 },
 "nbformat": 4,
 "nbformat_minor": 5
}
