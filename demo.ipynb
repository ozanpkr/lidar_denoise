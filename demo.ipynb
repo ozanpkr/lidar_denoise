{
 "cells": [
  {
   "cell_type": "code",
   "execution_count": 1,
   "id": "7989956e-bdd9-47b8-bdf6-49b19cd621b5",
   "metadata": {},
   "outputs": [
    {
     "name": "stdout",
     "output_type": "stream",
     "text": [
      "Jupyter environment detected. Enabling Open3D WebVisualizer.\n",
      "[Open3D INFO] WebRTC GUI backend enabled.\n",
      "[Open3D INFO] WebRTCWindowSystem: HTTP handshake server disabled.\n"
     ]
    }
   ],
   "source": [
    "import open3d as o3\n",
    "import numpy as np\n",
    "import os\n",
    "from torch.utils.data import Dataset, DataLoader,random_split\n",
    "from torchvision import transforms\n",
    "import torch\n",
    "import torch.optim as optim\n",
    "import torch.nn.functional as F\n",
    "import torch.nn as nn"
   ]
  },
  {
   "cell_type": "code",
   "execution_count": 2,
   "id": "14db9756-57c2-4467-bf96-0896628ccb4a",
   "metadata": {},
   "outputs": [
    {
     "name": "stdout",
     "output_type": "stream",
     "text": [
      "GPU available.\n"
     ]
    }
   ],
   "source": [
    "# Check if GPU is available\n",
    "if torch.cuda.is_available():\n",
    "    device = torch.device(\"cuda:0\")  # Use the first GPU\n",
    "    print(\"GPU available.\")\n",
    "else:\n",
    "    device = torch.device(\"cpu\")\n",
    "    print(\"Using CPU.\")"
   ]
  },
  {
   "cell_type": "code",
   "execution_count": 3,
   "id": "107e501b-8846-4254-8b16-5f1c149ed46c",
   "metadata": {},
   "outputs": [],
   "source": [
    "def visualize_cloud(clean_lidar_points):\n",
    "    # Convert the numpy array to a Vector3dVector\n",
    "    point_cloud = o3.utility.Vector3dVector(clean_lidar_points)\n",
    "    # You can now use point_cloud with other Open3D functions and methods\n",
    "    pcd = o3.geometry.PointCloud()\n",
    "    pcd.points = point_cloud\n",
    "    o3.visualization.draw_geometries([pcd])"
   ]
  },
  {
   "cell_type": "code",
   "execution_count": 4,
   "id": "bd9d225b-3fa8-4ff0-92d2-5aeac86f6f3f",
   "metadata": {},
   "outputs": [],
   "source": [
    "class DenoisingAutoencoder(nn.Module):\n",
    "    def __init__(self):\n",
    "        super(DenoisingAutoencoder, self).__init__()\n",
    "\n",
    "        # Encoder\n",
    "        self.encoder =nn.Sequential(\n",
    "        nn.Conv1d(3, 16, kernel_size=3, stride=2, padding=1),\n",
    "        nn.ReLU(True),\n",
    "        nn.Conv1d(16, 32, kernel_size=3, stride=2, padding=1),\n",
    "        nn.ReLU(True),\n",
    "        nn.Conv1d(32, 64, kernel_size=3, stride=2, padding=1),\n",
    "        nn.ReLU(True)\n",
    "        )\n",
    "        # Decoder\n",
    "        self.decoder = nn.Sequential(\n",
    "            nn.ConvTranspose1d(64, 32, kernel_size=4, stride=2, padding=1),\n",
    "            nn.ReLU(True),\n",
    "            nn.ConvTranspose1d(32, 16, kernel_size=4, stride=2, padding=1),\n",
    "            nn.ReLU(True),\n",
    "            nn.ConvTranspose1d(16, 3, kernel_size=4, stride=2, padding=1),\n",
    "            nn.ReLU(True)\n",
    "        )\n",
    "    \n",
    "    def forward(self, x):\n",
    "        encoded = self.encoder(x)\n",
    "        decoded = self.decoder(encoded)\n",
    "        return decoded"
   ]
  },
  {
   "cell_type": "code",
   "execution_count": 5,
   "id": "30670a71-d296-49a4-bb69-40af83fda662",
   "metadata": {},
   "outputs": [
    {
     "data": {
      "text/plain": [
       "DenoisingAutoencoder(\n",
       "  (encoder): Sequential(\n",
       "    (0): Conv1d(3, 16, kernel_size=(3,), stride=(2,), padding=(1,))\n",
       "    (1): ReLU(inplace=True)\n",
       "    (2): Conv1d(16, 32, kernel_size=(3,), stride=(2,), padding=(1,))\n",
       "    (3): ReLU(inplace=True)\n",
       "    (4): Conv1d(32, 64, kernel_size=(3,), stride=(2,), padding=(1,))\n",
       "    (5): ReLU(inplace=True)\n",
       "  )\n",
       "  (decoder): Sequential(\n",
       "    (0): ConvTranspose1d(64, 32, kernel_size=(4,), stride=(2,), padding=(1,))\n",
       "    (1): ReLU(inplace=True)\n",
       "    (2): ConvTranspose1d(32, 16, kernel_size=(4,), stride=(2,), padding=(1,))\n",
       "    (3): ReLU(inplace=True)\n",
       "    (4): ConvTranspose1d(16, 3, kernel_size=(4,), stride=(2,), padding=(1,))\n",
       "    (5): ReLU(inplace=True)\n",
       "  )\n",
       ")"
      ]
     },
     "execution_count": 5,
     "metadata": {},
     "output_type": "execute_result"
    }
   ],
   "source": [
    "model = DenoisingAutoencoder().to(device)\n",
    "criterion = nn.MSELoss()\n",
    "optimizer = optim.Adam(model.parameters(), lr=0.001)\n",
    "model.load_state_dict(torch.load('denoise_model.pth'))\n",
    "model.eval()"
   ]
  },
  {
   "cell_type": "code",
   "execution_count": 57,
   "id": "75dba940-b850-4b41-9240-ab73825ae144",
   "metadata": {},
   "outputs": [],
   "source": [
    "clean_lidar_data = np.load(\"sample_input.npz\")['lidar']"
   ]
  },
  {
   "cell_type": "code",
   "execution_count": 58,
   "id": "df4c769f-c987-4198-b397-f25f9c9bfefd",
   "metadata": {},
   "outputs": [],
   "source": [
    "visualize_cloud(clean_lidar_data)"
   ]
  },
  {
   "cell_type": "code",
   "execution_count": 60,
   "id": "cffabc7e-e2e1-4fa8-b42a-aa1f08d4c415",
   "metadata": {},
   "outputs": [],
   "source": [
    "input = torch.tensor(clean_lidar_data, dtype=torch.float).to(device).unsqueeze(0).transpose(1, 2)\n",
    "output = model(input)\n",
    "output=output.transpose(2, 1)[0, :-1, :].cpu().detach().numpy()\n",
    "visualize_cloud(output)"
   ]
  }
 ],
 "metadata": {
  "kernelspec": {
   "display_name": "Python 3 (ipykernel)",
   "language": "python",
   "name": "python3"
  },
  "language_info": {
   "codemirror_mode": {
    "name": "ipython",
    "version": 3
   },
   "file_extension": ".py",
   "mimetype": "text/x-python",
   "name": "python",
   "nbconvert_exporter": "python",
   "pygments_lexer": "ipython3",
   "version": "3.10.13"
  }
 },
 "nbformat": 4,
 "nbformat_minor": 5
}
